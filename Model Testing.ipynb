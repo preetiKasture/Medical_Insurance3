{
 "cells": [
  {
   "cell_type": "markdown",
   "id": "5b3aa3a9-ced0-4d1c-9748-263a9c10d9e9",
   "metadata": {},
   "source": [
    "### Model Testing"
   ]
  },
  {
   "cell_type": "code",
   "execution_count": 1,
   "id": "30fdd3b5-b7ca-41b6-9759-807c76da95a7",
   "metadata": {},
   "outputs": [],
   "source": [
    "import pickle \n",
    "import json\n",
    "import numpy as np\n",
    "import warnings\n",
    "warnings.filterwarnings('ignore')"
   ]
  },
  {
   "cell_type": "markdown",
   "id": "fe36bd66-a79c-4778-8beb-2c6cc7acfcc8",
   "metadata": {},
   "source": [
    "#### Load Models and column data"
   ]
  },
  {
   "cell_type": "code",
   "execution_count": 4,
   "id": "611b76b1-e6dc-4625-9dfb-47adc9ddf8e4",
   "metadata": {},
   "outputs": [
    {
     "data": {
      "text/html": [
       "<style>#sk-container-id-1 {color: black;}#sk-container-id-1 pre{padding: 0;}#sk-container-id-1 div.sk-toggleable {background-color: white;}#sk-container-id-1 label.sk-toggleable__label {cursor: pointer;display: block;width: 100%;margin-bottom: 0;padding: 0.3em;box-sizing: border-box;text-align: center;}#sk-container-id-1 label.sk-toggleable__label-arrow:before {content: \"▸\";float: left;margin-right: 0.25em;color: #696969;}#sk-container-id-1 label.sk-toggleable__label-arrow:hover:before {color: black;}#sk-container-id-1 div.sk-estimator:hover label.sk-toggleable__label-arrow:before {color: black;}#sk-container-id-1 div.sk-toggleable__content {max-height: 0;max-width: 0;overflow: hidden;text-align: left;background-color: #f0f8ff;}#sk-container-id-1 div.sk-toggleable__content pre {margin: 0.2em;color: black;border-radius: 0.25em;background-color: #f0f8ff;}#sk-container-id-1 input.sk-toggleable__control:checked~div.sk-toggleable__content {max-height: 200px;max-width: 100%;overflow: auto;}#sk-container-id-1 input.sk-toggleable__control:checked~label.sk-toggleable__label-arrow:before {content: \"▾\";}#sk-container-id-1 div.sk-estimator input.sk-toggleable__control:checked~label.sk-toggleable__label {background-color: #d4ebff;}#sk-container-id-1 div.sk-label input.sk-toggleable__control:checked~label.sk-toggleable__label {background-color: #d4ebff;}#sk-container-id-1 input.sk-hidden--visually {border: 0;clip: rect(1px 1px 1px 1px);clip: rect(1px, 1px, 1px, 1px);height: 1px;margin: -1px;overflow: hidden;padding: 0;position: absolute;width: 1px;}#sk-container-id-1 div.sk-estimator {font-family: monospace;background-color: #f0f8ff;border: 1px dotted black;border-radius: 0.25em;box-sizing: border-box;margin-bottom: 0.5em;}#sk-container-id-1 div.sk-estimator:hover {background-color: #d4ebff;}#sk-container-id-1 div.sk-parallel-item::after {content: \"\";width: 100%;border-bottom: 1px solid gray;flex-grow: 1;}#sk-container-id-1 div.sk-label:hover label.sk-toggleable__label {background-color: #d4ebff;}#sk-container-id-1 div.sk-serial::before {content: \"\";position: absolute;border-left: 1px solid gray;box-sizing: border-box;top: 0;bottom: 0;left: 50%;z-index: 0;}#sk-container-id-1 div.sk-serial {display: flex;flex-direction: column;align-items: center;background-color: white;padding-right: 0.2em;padding-left: 0.2em;position: relative;}#sk-container-id-1 div.sk-item {position: relative;z-index: 1;}#sk-container-id-1 div.sk-parallel {display: flex;align-items: stretch;justify-content: center;background-color: white;position: relative;}#sk-container-id-1 div.sk-item::before, #sk-container-id-1 div.sk-parallel-item::before {content: \"\";position: absolute;border-left: 1px solid gray;box-sizing: border-box;top: 0;bottom: 0;left: 50%;z-index: -1;}#sk-container-id-1 div.sk-parallel-item {display: flex;flex-direction: column;z-index: 1;position: relative;background-color: white;}#sk-container-id-1 div.sk-parallel-item:first-child::after {align-self: flex-end;width: 50%;}#sk-container-id-1 div.sk-parallel-item:last-child::after {align-self: flex-start;width: 50%;}#sk-container-id-1 div.sk-parallel-item:only-child::after {width: 0;}#sk-container-id-1 div.sk-dashed-wrapped {border: 1px dashed gray;margin: 0 0.4em 0.5em 0.4em;box-sizing: border-box;padding-bottom: 0.4em;background-color: white;}#sk-container-id-1 div.sk-label label {font-family: monospace;font-weight: bold;display: inline-block;line-height: 1.2em;}#sk-container-id-1 div.sk-label-container {text-align: center;}#sk-container-id-1 div.sk-container {/* jupyter's `normalize.less` sets `[hidden] { display: none; }` but bootstrap.min.css set `[hidden] { display: none !important; }` so we also need the `!important` here to be able to override the default hidden behavior on the sphinx rendered scikit-learn.org. See: https://github.com/scikit-learn/scikit-learn/issues/21755 */display: inline-block !important;position: relative;}#sk-container-id-1 div.sk-text-repr-fallback {display: none;}</style><div id=\"sk-container-id-1\" class=\"sk-top-container\"><div class=\"sk-text-repr-fallback\"><pre>LinearRegression()</pre><b>In a Jupyter environment, please rerun this cell to show the HTML representation or trust the notebook. <br />On GitHub, the HTML representation is unable to render, please try loading this page with nbviewer.org.</b></div><div class=\"sk-container\" hidden><div class=\"sk-item\"><div class=\"sk-estimator sk-toggleable\"><input class=\"sk-toggleable__control sk-hidden--visually\" id=\"sk-estimator-id-1\" type=\"checkbox\" checked><label for=\"sk-estimator-id-1\" class=\"sk-toggleable__label sk-toggleable__label-arrow\">LinearRegression</label><div class=\"sk-toggleable__content\"><pre>LinearRegression()</pre></div></div></div></div></div>"
      ],
      "text/plain": [
       "LinearRegression()"
      ]
     },
     "execution_count": 4,
     "metadata": {},
     "output_type": "execute_result"
    }
   ],
   "source": [
    "with open('linear_reg_model.pkl', 'rb') as f:\n",
    "    linear_model = pickle.load(f)\n",
    "\n",
    "linear_model"
   ]
  },
  {
   "cell_type": "code",
   "execution_count": 5,
   "id": "f2ff33d3-7393-453e-bde0-d64cdb464a0e",
   "metadata": {},
   "outputs": [
    {
     "data": {
      "text/plain": [
       "{'gender': {'male': 1, 'female': 0}, 'smoker': {'yes': 1, 'no': 0}}"
      ]
     },
     "execution_count": 5,
     "metadata": {},
     "output_type": "execute_result"
    }
   ],
   "source": [
    "with open('column_data.json', 'rb') as f:\n",
    "    column_data = json.load(f)\n",
    "column_data"
   ]
  },
  {
   "cell_type": "code",
   "execution_count": 6,
   "id": "f88d7ee8-3dad-43a0-a2ce-ebe1ed602d75",
   "metadata": {},
   "outputs": [
    {
     "data": {
      "text/plain": [
       "array(['age', 'gender', 'bmi', 'children', 'smoker', 'region_northeast',\n",
       "       'region_northwest', 'region_southeast', 'region_southwest'],\n",
       "      dtype=object)"
      ]
     },
     "execution_count": 6,
     "metadata": {},
     "output_type": "execute_result"
    }
   ],
   "source": [
    "column_names = linear_model.feature_names_in_\n",
    "column_names"
   ]
  },
  {
   "cell_type": "code",
   "execution_count": 7,
   "id": "e5057de4-e745-4a50-a4b9-98f7bd171b62",
   "metadata": {},
   "outputs": [
    {
     "data": {
      "text/plain": [
       "9"
      ]
     },
     "execution_count": 7,
     "metadata": {},
     "output_type": "execute_result"
    }
   ],
   "source": [
    "features_count = linear_model.n_features_in_\n",
    "features_count"
   ]
  },
  {
   "cell_type": "markdown",
   "id": "65b003a9-4f82-4325-b388-967f53244181",
   "metadata": {},
   "source": [
    "### User values"
   ]
  },
  {
   "cell_type": "code",
   "execution_count": 8,
   "id": "b8c9ce27-6e49-402c-9af1-877ed3e182a8",
   "metadata": {},
   "outputs": [],
   "source": [
    "age = 35\n",
    "gender = 'male'\n",
    "bmi = 26.90\n",
    "children = 2\n",
    "smoker = 'yes'\n",
    "region = 'southeast'\n",
    "\n",
    "gender = column_data['gender'][gender]\n",
    "smoker = column_data['smoker'][smoker]\n",
    "\n",
    "region = \"region_\" + region\n",
    "\n",
    "region_index = np.where(column_names == region)[0][0]"
   ]
  },
  {
   "cell_type": "code",
   "execution_count": 9,
   "id": "006e7436-ed3b-4267-85ea-43b9f4106fb2",
   "metadata": {},
   "outputs": [
    {
     "data": {
      "text/plain": [
       "array([[35. ,  1. , 26.9,  2. ,  1. ,  0. ,  0. ,  1. ,  0. ]])"
      ]
     },
     "execution_count": 9,
     "metadata": {},
     "output_type": "execute_result"
    }
   ],
   "source": [
    "test_array = np.zeros((1,features_count))\n",
    "test_array[0,0] = age\n",
    "test_array[0,1] = gender\n",
    "test_array[0,2] = bmi\n",
    "test_array[0,3] = children\n",
    "test_array[0,4] = smoker\n",
    "test_array[0,region_index] = 1\n",
    "\n",
    "test_array"
   ]
  },
  {
   "cell_type": "code",
   "execution_count": 10,
   "id": "03f48b3f-9cf4-444a-99e4-5f7a211d3355",
   "metadata": {},
   "outputs": [
    {
     "name": "stdout",
     "output_type": "stream",
     "text": [
      "Predicted Medical Insurance charges : 30106.688837570666\n"
     ]
    }
   ],
   "source": [
    "predicted_charges = linear_model.predict(test_array)[0]\n",
    "print(\"Predicted Medical Insurance charges :\",predicted_charges)"
   ]
  },
  {
   "cell_type": "code",
   "execution_count": 11,
   "id": "7506d347-cb4e-4708-92c6-ec5a86df1d0f",
   "metadata": {},
   "outputs": [],
   "source": [
    "def get_predicted_charges(age,gender,bmi,children,smoker,region):\n",
    "    \n",
    "    gender = column_data['gender'][gender]\n",
    "    smoker = column_data['smoker'][smoker]\n",
    "    \n",
    "    region = \"region_\" + region\n",
    "    \n",
    "    region_index = np.where(column_names == region)[0][0]\n",
    "\n",
    "    test_array = np.zeros((1,features_count))\n",
    "    test_array[0,0] = age\n",
    "    test_array[0,1] = gender\n",
    "    test_array[0,2] = bmi\n",
    "    test_array[0,3] = children\n",
    "    test_array[0,4] = smoker\n",
    "    test_array[0,region_index] = 1\n",
    "    predicted_charges = linear_model.predict(test_array)[0]\n",
    "\n",
    "    return predicted_charges"
   ]
  },
  {
   "cell_type": "code",
   "execution_count": 12,
   "id": "a2fcae1c-bd7f-4123-ac59-e16c245b847a",
   "metadata": {},
   "outputs": [
    {
     "data": {
      "text/plain": [
       "24163.71124649911"
      ]
     },
     "execution_count": 12,
     "metadata": {},
     "output_type": "execute_result"
    }
   ],
   "source": [
    "age = 21\n",
    "gender = 'female'\n",
    "bmi = 23.90\n",
    "children = 0\n",
    "smoker = 'yes'\n",
    "region = 'southeast'\n",
    "\n",
    "get_predicted_charges(age,gender,bmi,children,smoker,region)"
   ]
  },
  {
   "cell_type": "code",
   "execution_count": 13,
   "id": "5b43c45c-666d-4270-8bc8-ab904795089c",
   "metadata": {},
   "outputs": [
    {
     "data": {
      "text/plain": [
       "4482.9393591646985"
      ]
     },
     "execution_count": 13,
     "metadata": {},
     "output_type": "execute_result"
    }
   ],
   "source": [
    "age = 21\n",
    "gender = 'female'\n",
    "bmi = 30.90\n",
    "children = 3\n",
    "smoker = 'no'\n",
    "region = 'southeast'\n",
    "\n",
    "get_predicted_charges(age,gender,bmi,children,smoker,region)"
   ]
  },
  {
   "cell_type": "code",
   "execution_count": null,
   "id": "aa2eac50-bd58-4cfd-9b9e-d4679673228f",
   "metadata": {},
   "outputs": [],
   "source": []
  },
  {
   "cell_type": "code",
   "execution_count": null,
   "id": "877a1f72-a1c0-4f7f-b007-8f719e4a691c",
   "metadata": {},
   "outputs": [],
   "source": []
  }
 ],
 "metadata": {
  "kernelspec": {
   "display_name": "Python 3 (ipykernel)",
   "language": "python",
   "name": "python3"
  },
  "language_info": {
   "codemirror_mode": {
    "name": "ipython",
    "version": 3
   },
   "file_extension": ".py",
   "mimetype": "text/x-python",
   "name": "python",
   "nbconvert_exporter": "python",
   "pygments_lexer": "ipython3",
   "version": "3.11.6"
  }
 },
 "nbformat": 4,
 "nbformat_minor": 5
}
